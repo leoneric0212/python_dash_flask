{
 "cells": [
  {
   "cell_type": "code",
   "execution_count": 1,
   "metadata": {},
   "outputs": [
    {
     "data": {
      "text/html": [
       "\n",
       "        <iframe\n",
       "            width=\"100%\"\n",
       "            height=\"650\"\n",
       "            src=\"http://127.0.0.1:8050/\"\n",
       "            frameborder=\"0\"\n",
       "            allowfullscreen\n",
       "            \n",
       "        ></iframe>\n",
       "        "
      ],
      "text/plain": [
       "<IPython.lib.display.IFrame at 0x2153d777f90>"
      ]
     },
     "metadata": {},
     "output_type": "display_data"
    }
   ],
   "source": [
    "import dash\n",
    "from dash import dcc, html\n",
    "from dash.dependencies import Input, Output\n",
    "import pandas as pd\n",
    "import plotly.express as px\n",
    "\n",
    "# 假設有一個事故資料表，包含經緯度數據\n",
    "data = {\n",
    "    '日期': ['2023-01-01', '2023-01-02', '2023-01-03'],\n",
    "    '天氣': ['晴天', '雨天', '陰天'],\n",
    "    '地區': ['北部', '中部', '南部'],\n",
    "    '經度': [121.5, 120.5, 121.0],\n",
    "    '緯度': [25.0, 24.0, 23.5],\n",
    "    '事故數': [10, 5, 8]\n",
    "}\n",
    "df = pd.DataFrame(data)\n",
    "\n",
    "app = dash.Dash(__name__)\n",
    "\n",
    "app.layout = html.Div([\n",
    "    dcc.Checklist(\n",
    "        id='weather-filter',\n",
    "        options=[{'label': weather, 'value': weather} for weather in df['天氣'].unique()],\n",
    "        value=df['天氣'].unique().tolist(),\n",
    "        labelStyle={'display': 'inline-block'}\n",
    "    ),\n",
    "    dcc.Checklist(\n",
    "        id='region-filter',\n",
    "        options=[{'label': region, 'value': region} for region in df['地區'].unique()],\n",
    "        value=df['地區'].unique().tolist(),\n",
    "        labelStyle={'display': 'inline-block'}\n",
    "    ),\n",
    "    dcc.DatePickerRange(\n",
    "        id='date-picker',\n",
    "        start_date=df['日期'].min(),\n",
    "        end_date=df['日期'].max(),\n",
    "        display_format='YYYY-MM-DD'\n",
    "    ),\n",
    "    dcc.Graph(id='map'),\n",
    "    html.Div(id='filtered-data')\n",
    "])\n",
    "\n",
    "@app.callback(\n",
    "    [Output('map', 'figure'),\n",
    "     Output('filtered-data', 'children')],\n",
    "    [Input('weather-filter', 'value'),\n",
    "     Input('region-filter', 'value'),\n",
    "     Input('date-picker', 'start_date'),\n",
    "     Input('date-picker', 'end_date')]\n",
    ")\n",
    "def update_output(selected_weathers, selected_regions, start_date, end_date):\n",
    "    filtered_df = df[\n",
    "        (df['天氣'].isin(selected_weathers)) &\n",
    "        (df['地區'].isin(selected_regions)) &\n",
    "        (df['日期'] >= start_date) &\n",
    "        (df['日期'] <= end_date)\n",
    "    ]\n",
    "    \n",
    "    fig = px.scatter_mapbox(filtered_df, lat='緯度', lon='經度', color='事故數',\n",
    "                            hover_name='地區', hover_data=['日期', '天氣'],\n",
    "                            zoom=5, height=500)\n",
    "    fig.update_layout(mapbox_style=\"open-street-map\")\n",
    "    \n",
    "    return fig, filtered_df.to_dict('records')\n",
    "\n",
    "if __name__ == '__main__':\n",
    "    app.run_server(debug=True)\n"
   ]
  }
 ],
 "metadata": {
  "kernelspec": {
   "display_name": "venv2",
   "language": "python",
   "name": "python3"
  },
  "language_info": {
   "codemirror_mode": {
    "name": "ipython",
    "version": 3
   },
   "file_extension": ".py",
   "mimetype": "text/x-python",
   "name": "python",
   "nbconvert_exporter": "python",
   "pygments_lexer": "ipython3",
   "version": "3.11.9"
  }
 },
 "nbformat": 4,
 "nbformat_minor": 2
}
